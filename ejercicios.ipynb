{
 "cells": [
  {
   "cell_type": "markdown",
   "metadata": {},
   "source": [
    "1. Escribe una función que reciba una cadena de texto como parámetro y devuelva un diccionario con las frecuencias de cada letra en la cadena. Los espacios no deben ser considerados."
   ]
  },
  {
   "cell_type": "code",
   "execution_count": null,
   "metadata": {},
   "outputs": [],
   "source": [
    "def frecuencia_letras(cadena):\n",
    "    lista_cadena=list(cadena)\n",
    "    frecuencia={}\n",
    "    for letra in lista_cadena:\n",
    "        if letra==' ':\n",
    "            continue\n",
    "        else:\n",
    "            frecuencia.update({letra:lista_cadena.count(letra)})\n",
    "    print(f\"frecuencia de letras de {cadena}, en formato letra: frecuencia es: {frecuencia}\")\n",
    "frecuencia_letras('mermelada')\n",
    "frecuencia_letras('mama')"
   ]
  },
  {
   "cell_type": "markdown",
   "metadata": {},
   "source": [
    "2. Dada una lista de números, obtén una nueva lista con el doble de cada valor. Usa la función map()\n"
   ]
  },
  {
   "cell_type": "code",
   "execution_count": null,
   "metadata": {},
   "outputs": [],
   "source": [
    "lista =[2,3]\n",
    "doble=list(map(lambda x: x*2, lista))\n",
    "print(f\"el doble de {lista} es {doble}\")"
   ]
  },
  {
   "cell_type": "markdown",
   "metadata": {},
   "source": [
    "3. Escribe una función que tome una lista de palabras y una palabra objetivo como parámetros. La función debe devolver una lista con todas las palabras de la lista original que contengan la palabra objetivo."
   ]
  },
  {
   "cell_type": "code",
   "execution_count": null,
   "metadata": {},
   "outputs": [],
   "source": [
    "lista_palabras=[\"hola\", \"que\", \"tal\", \"estás\"]\n",
    "palabra_objetivo=\"estás\"\n",
    "busca = lambda lista, objetivo: [x for x in lista if x==objetivo]\n",
    "print(f\"En la lista de palabras {lista_palabras} la palabra objetivo {palabra_objetivo } se ha encontrado : {busca(lista_palabras, palabra_objetivo)}\")\n"
   ]
  },
  {
   "cell_type": "markdown",
   "metadata": {},
   "source": [
    "4. Genera una función que calcule la diferencia entre los valores de dos listas. Usa la función map()"
   ]
  },
  {
   "cell_type": "code",
   "execution_count": null,
   "metadata": {},
   "outputs": [],
   "source": [
    "lista_1=[1,2,3,5]\n",
    "lista_2=[1,5,6,7]\n",
    "diferencia=list(map(lambda x: x[0]-x[1], zip(lista_1, lista_2)))\n",
    "print(f\"la lista diferencia de la lista {lista_1} y {lista_2} es {diferencia}\")\n",
    "                "
   ]
  },
  {
   "cell_type": "markdown",
   "metadata": {},
   "source": [
    "5. Ecribe una función que tome una lista de números como parámetro y un valor opcional nota_aprobado, que por defecto es 5. La función debe calcular la media de los números en la lista y determinar si la media es mayor o igual que nota aprobado. Si es así, el estado será \"aprobado\", de lo contrario, será \"suspenso\". La función debe devolver una tupla que contenga la media y el estado."
   ]
  },
  {
   "cell_type": "code",
   "execution_count": null,
   "metadata": {},
   "outputs": [],
   "source": [
    "def media_estado(notas, nota_aprobado=5):\n",
    "    total=0\n",
    "    for i in notas: total+=i\n",
    "    media=total/len(notas)\n",
    "    if media>=nota_aprobado:\n",
    "        estado=\"aprobado\"\n",
    "    else: \n",
    "        estado=\"suspenso\"\n",
    "    return (round(media,2), estado)\n",
    "notas=[4,4,6,7,8,0]\n",
    "print(f\"de la lista de notas {notas} la calificación media es: {media_estado(notas)}\")\n"
   ]
  },
  {
   "cell_type": "markdown",
   "metadata": {},
   "source": [
    "6. Escribe una función que calcule el factorial de un número de manera recursiva."
   ]
  },
  {
   "cell_type": "code",
   "execution_count": null,
   "metadata": {},
   "outputs": [],
   "source": [
    "def factorial(numero):\n",
    "    if numero==0:\n",
    "        return 1\n",
    "    else:\n",
    "        return numero*factorial(numero-1)\n",
    "\n",
    "print(factorial(4))\n"
   ]
  },
  {
   "cell_type": "markdown",
   "metadata": {},
   "source": [
    "7. Genera una función que convierta una lista de tuplas a una lista de strings. Usa la función map()"
   ]
  },
  {
   "cell_type": "code",
   "execution_count": 4,
   "metadata": {},
   "outputs": [
    {
     "name": "stdout",
     "output_type": "stream",
     "text": [
      "lista de tupla [(1, 2), (3, 4), (5, 6)]\n",
      "lista de string ['1,2', '3,4', '5,6']\n"
     ]
    }
   ],
   "source": [
    "lista_tuplas=[(1,2), (3,4), (5,6)]\n",
    "lista_strings= list(map(lambda x: str(x[0])+','+str(x[1]), lista_tuplas))\n",
    "print(f\"lista de tupla {lista_tuplas}\")\n",
    "print(f\"lista de string {lista_strings}\")"
   ]
  },
  {
   "cell_type": "markdown",
   "metadata": {},
   "source": [
    "8. Escribe un programa que pida al usuario dos números e intente dividirlos. Si el usuario ingresa un valor no numérico o intenta dividir por cero, maneja esas excepciones de manera adecuada. Asegúrate de mostrar un mensaje indicando si la división fue exitosa o no."
   ]
  },
  {
   "cell_type": "code",
   "execution_count": null,
   "metadata": {},
   "outputs": [],
   "source": [
    "try:\n",
    "    numero1=int(input(\"escribe el primer número\"))\n",
    "    numero2=int(input(\"escribe el segundo número\"))\n",
    "    try:\n",
    "        print(f\"la división es exitosa y el resultado es : {round(numero1/numero2,2)}\")\n",
    "    except ZeroDivisionError:\n",
    "        print(\"No se puede dividor por cero\")\n",
    "except ValueError:\n",
    "    print(\"Valores no númericos\")\n"
   ]
  },
  {
   "cell_type": "markdown",
   "metadata": {},
   "source": [
    "9. Escribe una función que tome una lista de nombres de mascotas como parámetro y devuelva una nueva lista excluyendo ciertas mascotas prohibidas en España. La lista de mascotas a excluir es [\"Mapache\", \"Tigre\", \"Serpiente Pitón\", \"Cocodrilo\", \"Oso\"].Usa la función filter()"
   ]
  },
  {
   "cell_type": "code",
   "execution_count": null,
   "metadata": {},
   "outputs": [],
   "source": [
    "lista_mascotas=[\"perro\",\"gato\",\"hamster\",\"Tigre\", \"Tortuga\"]\n",
    "lista_mascota_prohibidas=[\"Mapache\", \"Tigre\", \"Serpiente Pitón\", \"Cocodrilo\", \"Oso\"]\n",
    "resultado=list(filter(lambda x: not(bool(lista_mascota_prohibidas.count(x))), lista_mascotas))\n",
    "print(f\"El listado de mascotas permitidas es {resultado}\")\n"
   ]
  },
  {
   "cell_type": "markdown",
   "metadata": {},
   "source": [
    "10. Escribe una función que reciba una lista de números y calcule su promedio. Si la lista está vacía, lanza una excepción personalizada y maneja el error adecuadamente."
   ]
  },
  {
   "cell_type": "code",
   "execution_count": null,
   "metadata": {},
   "outputs": [],
   "source": [
    "def promedio(lista_numeros):\n",
    "    total=0\n",
    "    try:\n",
    "        for elemento in lista_numeros: \n",
    "            total+=elemento\n",
    "        return(round(total/len(lista_numeros),2))\n",
    "    except TypeError:\n",
    "        print(\"Esto no es una lista de números\")\n",
    "        return 0\n",
    "    except ValueError:\n",
    "        print(\"Esto no es una lista de números\")\n",
    "        return 0\n",
    "    except ZeroDivisionError:\n",
    "        print(\"La lista está vacía\")\n",
    "        return 0\n",
    "\n",
    "lista=[1,2,3,5]\n",
    "media=promedio(lista)\n",
    "if media:\n",
    "    print(f\"el promedio de {lista} es {media}\")"
   ]
  },
  {
   "cell_type": "markdown",
   "metadata": {},
   "source": [
    "11. Escribe un programa que pida al usuario que introduzca su edad. Si el usuario ingresa un valor no numérico o un valor fuera del rango esperado (por ejemplo, menor que 0 o mayor que 120), maneja las excepciones adecuadamente."
   ]
  },
  {
   "cell_type": "code",
   "execution_count": null,
   "metadata": {},
   "outputs": [],
   "source": [
    "try:\n",
    "    edad=int(input(\"Introduce tu edad (valor númerico mayor que 0 y menor que 120):\"))\n",
    "except ValueError:\n",
    "    print(\"edad errónea, valor no numérico\")\n",
    "else:\n",
    "    if edad<=0 or edad>120:\n",
    "        print(f\"la edad {edad} está fuera del rango (0,120]\")\n",
    "    else:\n",
    "        print(f\"la edad {edad} es un valor correcto entre (0,120]\")\n"
   ]
  },
  {
   "cell_type": "markdown",
   "metadata": {},
   "source": [
    "12. Genera una función que al recibir una frase devuelva una lista con la longitud de cada palabra. Usa la función map()"
   ]
  },
  {
   "cell_type": "code",
   "execution_count": null,
   "metadata": {},
   "outputs": [],
   "source": [
    "frase='Esto es un frase corta'\n",
    "longitud_palabras=list(map(lambda x: len(x), frase.strip().split(' ')))\n",
    "print(f\"la longitud de la palabras de la frase '{frase}'es {longitud_palabras}\")"
   ]
  },
  {
   "cell_type": "markdown",
   "metadata": {},
   "source": [
    "13. Genera una función la cual, para un conjunto de caracteres, devuelva una lista de tuplas con cada letra en mayúsculas y minúsculas. Las letras no pueden estar repetidas .Usa la función map()"
   ]
  },
  {
   "cell_type": "code",
   "execution_count": null,
   "metadata": {},
   "outputs": [],
   "source": [
    "conjunto_caracteres={'a', 'b', 'c', 'd', 'e', 'f', 'g', 'h', 'i'}\n",
    "may_min= list(map(lambda x: (x.upper(), x.lower()), conjunto_caracteres))\n",
    "print (may_min)\n"
   ]
  },
  {
   "cell_type": "markdown",
   "metadata": {},
   "source": [
    "14. Crea una función que retorne las palabras de una lista de palabras que comience con una letra en especifico. Usa la función filter()"
   ]
  },
  {
   "cell_type": "code",
   "execution_count": null,
   "metadata": {},
   "outputs": [],
   "source": [
    "lista_palabras=[\"Hola\", \"que\", \"tal\", \"como\", \"estas\"]\n",
    "letra_especifica=\"h\"\n",
    "filtro_palabras=list(filter(lambda x: x.strip()[0].lower()==letra_especifica, lista_palabras))\n",
    "print(f\"De la lista de palabras: {lista_palabras} filtrando las que empienzan por {letra_especifica} resultan las palabras {filtro_palabras}\")"
   ]
  },
  {
   "cell_type": "markdown",
   "metadata": {},
   "source": [
    "15. Crea una función lambda que sume 3 a cada número de una lista dada."
   ]
  },
  {
   "cell_type": "code",
   "execution_count": null,
   "metadata": {},
   "outputs": [],
   "source": [
    "lista_numeros=[1,2,3,4,5]\n",
    "suma_3=list(map(lambda x: x+3, lista_numeros))\n",
    "print(f\"si sumanos 3 a los numeros de la lista {lista_numeros} la lista es {suma_3}\")\n"
   ]
  },
  {
   "cell_type": "markdown",
   "metadata": {},
   "source": [
    "16. Escribe una función que tome una cadena de texto y un número entero n como parámetros y devuelva una lista de todas las palabras que sean más largas que n. Usa la función filter()"
   ]
  },
  {
   "cell_type": "code",
   "execution_count": null,
   "metadata": {},
   "outputs": [],
   "source": [
    "cadena_de_texto=\"esto es una cadena de texto\"\n",
    "longitud_palabra=4\n",
    "lista_palabras=list(filter(lambda x: len(x)>longitud_palabra, cadena_de_texto.strip().split(\" \")))\n",
    "print(f\"De la cadena de texto '{cadena_de_texto}´ las palabras que exceden la longitud {longitud_palabra} son {lista_palabras}\")\n"
   ]
  },
  {
   "cell_type": "markdown",
   "metadata": {},
   "source": [
    "17. Crea una función que tome una lista de dígitos y devuelva el número correspondiente. Por ejemplo, [5,7,2] corresponde al número quinientos setenta y dos (572). Usa la función reduce()"
   ]
  },
  {
   "cell_type": "code",
   "execution_count": null,
   "metadata": {},
   "outputs": [],
   "source": [
    "from functools import reduce\n",
    "lista_de_digitos=[1,2,2,4,5]\n",
    "numero=int(reduce(lambda x,y:int(str(x)+str(y)), lista_de_digitos))\n",
    "print(f\"El número que corresponde a:{lista_de_digitos} es: ({numero})\")\n"
   ]
  },
  {
   "cell_type": "markdown",
   "metadata": {},
   "source": [
    "18. Escribe un programa en Python que cree una lista de diccionarios que contenga información de estudiantes (nombre, edad, calificación) y use la función filter para extraer a los estudiantes con una calificación mayor o igual a 90. Usa la función filter()"
   ]
  },
  {
   "cell_type": "code",
   "execution_count": null,
   "metadata": {},
   "outputs": [],
   "source": [
    "informacion_estudiantes= [{\"nombre\":\"Ana\", \"edad\":17, \"calificación\":70}, {\"nombre\":\"Juan\", \"edad\":18, \"calificación\":90}, {\"nombre\":\"Irene\", \"edad\":16, \"calificación\":95}]\n",
    "estudiantes_calificados=list(filter(lambda x: x[\"calificación\"]>=90, informacion_estudiantes))\n",
    "print(f\"los estudiantes con calificación mayor a 90 son: {estudiantes_calificados}\")\n"
   ]
  },
  {
   "cell_type": "markdown",
   "metadata": {},
   "source": [
    "19. Crea una función lambda que filtre los números impares de una lista dada."
   ]
  },
  {
   "cell_type": "code",
   "execution_count": null,
   "metadata": {},
   "outputs": [],
   "source": [
    "lista_numeros=[1,2,3,4,5,6,7,8,9]\n",
    "numeros_impares= lambda x: [n for n in x if n%2!=0]\n",
    "print(f\"De la lista números {lista_numeros} los números impares son: {numeros_impares(lista_numeros)}\")\n"
   ]
  },
  {
   "cell_type": "markdown",
   "metadata": {},
   "source": [
    "20. Para una lista con elementos tipo integer y string obtén una nueva lista sólo con los valores int. Usa la función filter()"
   ]
  },
  {
   "cell_type": "code",
   "execution_count": null,
   "metadata": {},
   "outputs": [],
   "source": [
    "lista=[\"string1\", 1, \"string2\", 2, \"string3\",3]\n",
    "lista_int= list(filter(lambda x: type(x)==int, lista))\n",
    "print(f\"De la lista {lista} los de tipo entero son: {lista_int}\")\n"
   ]
  },
  {
   "cell_type": "markdown",
   "metadata": {},
   "source": [
    "21. Crea una función que calcule el cubo de un número dado mediante una función lambda"
   ]
  },
  {
   "cell_type": "code",
   "execution_count": null,
   "metadata": {},
   "outputs": [],
   "source": [
    "numero=6\n",
    "cubo = lambda x: x**3\n",
    "print(f\"El cubo de: {numero} es {cubo(numero)}\")"
   ]
  },
  {
   "cell_type": "markdown",
   "metadata": {},
   "source": [
    "22. Dada una lista numérica, obtén el producto total de los valores de dicha lista.Usa la función reduce() ."
   ]
  },
  {
   "cell_type": "code",
   "execution_count": null,
   "metadata": {},
   "outputs": [],
   "source": [
    "from functools import reduce\n",
    "lista=[1,2,3,4,5,6]\n",
    "producto_total=int(reduce(lambda x,y: x*y, lista))\n",
    "print(f\"De la lista {lista} el producto de sus números es: {producto_total}\")\n"
   ]
  },
  {
   "cell_type": "markdown",
   "metadata": {},
   "source": [
    "23. Concatena una lista de palabras.Usa la función reduce() ."
   ]
  },
  {
   "cell_type": "code",
   "execution_count": null,
   "metadata": {},
   "outputs": [],
   "source": [
    "lista_palabras=[\"Esto\", \"es\", \"una\", \"lista\", \"de\", \"palabras\"]\n",
    "concatena=str(reduce(lambda x,y: str(x)+str(y), lista_palabras))\n",
    "print(f\"La concatenación de las palabras de la lista {lista_palabras} es: {concatena}\")\n"
   ]
  },
  {
   "cell_type": "markdown",
   "metadata": {},
   "source": [
    "24. Calcula la diferencia total en los valores de una lista. Usa la función reduce() .\n"
   ]
  },
  {
   "cell_type": "code",
   "execution_count": null,
   "metadata": {},
   "outputs": [],
   "source": [
    "lista_numeros=[1,2,3,4,5,6,7]\n",
    "diferencia=int(reduce(lambda x,y: x-y, lista_numeros))\n",
    "print(f\"La diferencia de los números de la lista {lista_numeros} es {diferencia}\")\n"
   ]
  },
  {
   "cell_type": "markdown",
   "metadata": {},
   "source": [
    "25. Crea una función que cuente el número de caracteres en una cadena de texto dada."
   ]
  },
  {
   "cell_type": "code",
   "execution_count": null,
   "metadata": {},
   "outputs": [],
   "source": [
    "cadena_de_texto=\"esto es una cadena de texto\"\n",
    "def cuenta(cadena):\n",
    "    caracteres=0\n",
    "    for n in cadena:\n",
    "        caracteres+=1\n",
    "    return caracteres\n",
    "print(f\"El número de caracteres de la cadena de texto {cadena_de_texto} es {cuenta(cadena_de_texto)}\")"
   ]
  },
  {
   "cell_type": "markdown",
   "metadata": {},
   "source": [
    "26. Crea una función lambda que calcule el resto de la división entre dos números dados."
   ]
  },
  {
   "cell_type": "code",
   "execution_count": null,
   "metadata": {},
   "outputs": [],
   "source": [
    "número_1=4\n",
    "número_2=2\n",
    "division=lambda x,y: y%x\n",
    "print(f\"El resto de la división de {número_1} entre {número_2} es {division(número_1, número_2)}\")\n"
   ]
  },
  {
   "cell_type": "markdown",
   "metadata": {},
   "source": [
    "27. Crea una función que calcule el promedio de una lista de números."
   ]
  },
  {
   "cell_type": "code",
   "execution_count": null,
   "metadata": {},
   "outputs": [],
   "source": [
    "lista_numeros=[1,2,3,4,5,6,7]\n",
    "def promedio(lista):\n",
    "    total=0\n",
    "    for numero in lista:\n",
    "        total+=numero\n",
    "    return round(total/numero,2)\n",
    "print(f\"El promedio de la lista {lista_numeros} es: {promedio(lista_numeros)}\")\n"
   ]
  },
  {
   "cell_type": "markdown",
   "metadata": {},
   "source": [
    "28. Crea una función que busque y devuelva el primer elemento duplicado en una lista dada."
   ]
  },
  {
   "cell_type": "code",
   "execution_count": null,
   "metadata": {},
   "outputs": [],
   "source": [
    "lista_numeros=[1,2,3,4,5,3]\n",
    "def primer_duplicado(lista):\n",
    "    for n in range(1, len(lista)):\n",
    "        for m in range(n):\n",
    "            if lista[m]==lista[n]:\n",
    "                return lista[n]\n",
    "    return -1\n",
    "primer_repetido=primer_duplicado(lista_numeros)\n",
    "if primer_repetido==-1:\n",
    "    print(f\"No hay números repetidos en {lista_numeros}\")\n",
    "else:\n",
    "    print(f\"El primer número de la lista {lista_numeros} que está repetido es el {primer_repetido}\")"
   ]
  },
  {
   "cell_type": "markdown",
   "metadata": {},
   "source": [
    "29. Crea una función que convierta una variable en una cadena de texto y enmascare todos los caracteres con el carácter '#', excepto los últimos cuatro."
   ]
  },
  {
   "cell_type": "code",
   "execution_count": null,
   "metadata": {},
   "outputs": [],
   "source": [
    "variable=\"12312640406777\"\n",
    "variable_enmascarada=\"\"\n",
    "for x in range(len(variable)-4):\n",
    "    variable_enmascarada+=\"#\"\n",
    "variable_enmascarada+=variable[-1:-5:-1]\n",
    "print(variable_enmascarada)\n"
   ]
  },
  {
   "cell_type": "markdown",
   "metadata": {},
   "source": [
    "30. Crea una función que determine si dos palabras son anagramas, es decir, si están formadas por las mismas letras pero en diferente orden."
   ]
  },
  {
   "cell_type": "code",
   "execution_count": null,
   "metadata": {},
   "outputs": [],
   "source": [
    "palabra_1=\"lola\"\n",
    "palabra_2=\"lalo\"\n",
    "anagrama= lambda x,y: len(set(list(x)).difference(set(list(y))))\n",
    "if anagrama(palabra_1, palabra_2):\n",
    "    print(f\" las palabras {palabra_1} y {palabra_2} no son anagramas\")\n",
    "else:\n",
    "    print(f\"las palabras {palabra_1} y {palabra_2} son anagramas\")\n"
   ]
  },
  {
   "cell_type": "markdown",
   "metadata": {},
   "source": [
    "31. Crea una función que solicite al usuario ingresar una lista de nombres y luego solicite un nombre para buscar en esa lista. Si el nombre está en la lista, se imprime un mensaje indicando que fue encontrado, de lo contrario, se lanza una excepción."
   ]
  },
  {
   "cell_type": "code",
   "execution_count": null,
   "metadata": {},
   "outputs": [],
   "source": [
    "lista_nombres=set(list(input(\"Introduce una lista de nombres separados por ,\").replace(\" \",\"\").split(',')))\n",
    "nombre_buscar=input(\"Nombre a buscar\").strip()\n",
    "try:\n",
    "    print(f\"En la lista de nombres {lista_nombres} \")\n",
    "    lista_nombres.remove(nombre_buscar)\n",
    "    print(f\"SÍ se ha encontrado la palabra {nombre_buscar}\")\n",
    "except KeyError:\n",
    "     print(f\"NO se ha encontrado la palabra {nombre_buscar}\")\n",
    "\n"
   ]
  },
  {
   "cell_type": "markdown",
   "metadata": {},
   "source": [
    "32. Crea una función que tome un nombre completo y una lista de empleados, busque el nombre completo en la lista y devuelve el puesto del empleado si está en la lista, de lo contrario, devuelve un mensaje indicando que la persona no trabaja aquí."
   ]
  },
  {
   "cell_type": "code",
   "execution_count": null,
   "metadata": {},
   "outputs": [],
   "source": [
    "nombre_completo=\"Pato Donald\"\n",
    "lista_empleados=[{\"nombre\":\"Pato Donald\", \"puesto\":\"puesto1\"},\n",
    "      {\"nombre\":\"Mickey Mouse\", \"puesto\":\"puesto2\"},\n",
    "      {\"nombre\":\"Tío Gilito\", \"puesto\":\"puesto3\"}]\n",
    "encontrado=False\n",
    "for empleado in lista_empleados:\n",
    "    if empleado[\"nombre\"]==nombre_completo:\n",
    "        print(f\"El empleado cuyo nombre es: '{empleado[\"nombre\"]}' tiene un puesto de '{empleado[\"puesto\"]}'\")\n",
    "        encontrado=True\n",
    "        break\n",
    "if not(encontrado):\n",
    "    print(f\"No se ha encontrado en {lista_empleados} el empleado cuyo nombre es: '{nombre_completo}'\")"
   ]
  },
  {
   "cell_type": "markdown",
   "metadata": {},
   "source": [
    "33. Crea una función lambda que sume elementos correspondientes de dos listas dadas."
   ]
  },
  {
   "cell_type": "code",
   "execution_count": null,
   "metadata": {},
   "outputs": [],
   "source": [
    "lista_1=[1,2,3,4,5]\n",
    "lista_2=[4,5,6,7,8]\n",
    "suma_listas= lambda x,y: [(n+m) for n,m in zip(x,y)] \n",
    "print(f\"La suma de elementos correspondientes de las listas {lista_1}, {lista_2} es {suma_listas(lista_1, lista_2)}\")"
   ]
  },
  {
   "cell_type": "markdown",
   "metadata": {},
   "source": [
    "34. Crea la clase Arbol , define un árbol genérico con un tronco y ramas como atributos. Los métodos disponibles son: crecer_tronco , nueva_rama , crecer_ramas , quitar_rama e info_arbol . El objetivo es implementar estos métodos para manipular la estructura del árbol.\n",
    "Código a seguir:\n",
    "1. Inicializar un árbol con un tronco de longitud 1 y una lista vacía de ramas.\n",
    "2. Implementar el método crecer_tronco para aumentar la longitud del tronco en una unidad.\n",
    "3. Implementar el método nueva_rama para agregar una nueva rama de longitud 1 a la lista de ramas.\n",
    "4. Implementar el método crecer_ramas para aumentar en una unidad la longitud de todas las ramas existentes.\n",
    "5. Implementar el método quitar_rama para eliminar una rama en una posición específica.\n",
    "6. Implementar el método info_arbol para devolver información sobre la longitud del tronco, el número de ramas y las longitudes de las\n",
    "mismas."
   ]
  },
  {
   "cell_type": "code",
   "execution_count": 24,
   "metadata": {},
   "outputs": [],
   "source": [
    "class Arbol:\n",
    "    def __init__(self, longitud_tronco=1, lista_ramas=[]):\n",
    "        self.longitud_tronco=longitud_tronco\n",
    "        if len(lista_ramas):\n",
    "            self.lista_ramas=lista_ramas.copy()\n",
    "        else:\n",
    "            self.lista_ramas=[]\n",
    "    def crecer_tronco(self):\n",
    "        self.longitud_tronco+=1\n",
    "    def nueva_rama(self):\n",
    "        self.lista_ramas.append(1)\n",
    "    def crecer_ramas(self):\n",
    "        for n in range(len(self.lista_ramas)):\n",
    "            self.lista_ramas[n]+=1\n",
    "    def quitar_rama(self, posicion):\n",
    "        self.lista_ramas.pop(posicion)\n",
    "    def info_arbol(self):\n",
    "       print(f\"la longitud del árbol es {self.longitud_tronco}\")\n",
    "       print(f\"la longitud de las ramas es: {self.lista_ramas}\")"
   ]
  },
  {
   "cell_type": "markdown",
   "metadata": {},
   "source": [
    "Caso de uso:\n",
    "1. Crear un árbol.\n",
    "2. Hacer crecer el tronco del árbol una unidad.\n",
    "3. Añadir una nueva rama al árbol.\n",
    "4. Hacer crecer todas las ramas del árbol una unidad.\n",
    "5. Añadir dos nuevas ramas al árbol.\n",
    "6. Retirar la rama situada en la posición 2.\n",
    "7. Obtener información sobre el árbol."
   ]
  },
  {
   "cell_type": "code",
   "execution_count": null,
   "metadata": {},
   "outputs": [],
   "source": [
    "arbol1=Arbol()\n",
    "arbol1.crecer_tronco()\n",
    "arbol1.nueva_rama()\n",
    "arbol1.crecer_ramas()\n",
    "arbol1.nueva_rama()\n",
    "arbol1.nueva_rama()\n",
    "arbol1.quitar_rama(2)\n",
    "print(arbol1.info_arbol())"
   ]
  },
  {
   "cell_type": "markdown",
   "metadata": {},
   "source": [
    "36. Crea la clase UsuarioBanco ,representa a un usuario de un banco con su nombre, saldo y si tiene o no cuenta corriente. Proporciona métodos para realizar operaciones como retirar dinero, transferir dinero desde otro usuario y agregar dinero al saldo.\n",
    "Código a seguir:\n",
    "1. Inicializar un usuario con su nombre, saldo y si tiene o no cuenta corriente mediante True y False .\n",
    "2. Implementar el método retirar_dinero para retirar dinero del saldo del usuario. Lanzará un error en caso de no poder hacerse.\n",
    "3. Implementar el método transferir_dinero para realizar una transferencia desde otro usuario al usuario actual. Lanzará un error en caso de no poder hacerse.\n",
    "4. Implementar el método agregar_dinero para agregar dinero al saldo del usuario."
   ]
  },
  {
   "cell_type": "code",
   "execution_count": 33,
   "metadata": {},
   "outputs": [],
   "source": [
    "class Usuariobanco:\n",
    "    def __init__(self, nombre, saldo, tiene_cuenta_corriente):\n",
    "        self.nombre=nombre\n",
    "        self.saldo=saldo\n",
    "        self.tiene_cuenta_corriente=tiene_cuenta_corriente\n",
    "    def retirar_dinero(self, cantidad):\n",
    "        if cantidad<=self.saldo:\n",
    "            self.saldo-=cantidad\n",
    "            return True\n",
    "        else:\n",
    "            return False\n",
    "    def transferir_dinero(self, otro_usuario, cantidad):\n",
    "        if cantidad<=self.saldo:\n",
    "            self.saldo-=cantidad\n",
    "            otro.usuario.saldo+=cantidad\n",
    "            return True\n",
    "        else:\n",
    "            return False\n",
    "    def agregar_dinero(self, cantidad):\n",
    "        self.saldo+=cantidad\n",
    "\n"
   ]
  },
  {
   "cell_type": "markdown",
   "metadata": {},
   "source": [
    "Caso de uso:\n",
    "1. Crear dos usuarios: \"Alicia\" con saldo inicial de 100 y \"Bob\" con saldo inicial de 50, ambos con cuenta corriente. \n",
    "2. Agregar 20 unidades de saldo de \"Bob\".\n",
    "3. Hacer una transferencia de 80 unidades desde \"Bob\" a \"Alicia\".\n",
    "4. Retirar 50 unidades de saldo a \"Alicia\"."
   ]
  },
  {
   "cell_type": "code",
   "execution_count": null,
   "metadata": {},
   "outputs": [],
   "source": [
    "Alicia=Usuariobanco(\"Alicia\", 100, True)\n",
    "Bob=Usuariobanco(\"Bob\", 50, True)\n",
    "Bob.agregar_dinero(20)\n",
    "if not(Bob.transferir_dinero(Alicia, 80)):\n",
    "    print(f\"Bob tiene un saldo de {Bob.saldo} que es insuficiente para transferir 80\")\n",
    "if not(Alicia.retirar_dinero(50)):\n",
    "    print(f\"Alicia tiene un saldo de {Alicia.saldo} que es insuficiente para retirar 50\")\n",
    "print(f\"{Alicia.__dict__}\")\n",
    "print(f\"{Bob.__dict__}\")\n"
   ]
  },
  {
   "cell_type": "markdown",
   "metadata": {},
   "source": [
    "37. Crea una función llamada procesar_texto que procesa un texto según la opción especificada: contar_palabras , reemplazar_palabras , eliminar_palabra . Estas opciones son otras funciones que tenemos que definir primero y llamar dentro de la función procesar_texto .\n",
    "Código a seguir:\n",
    "1. Crear una función contar_palabras para contar el número de veces que aparece cada palabra en el texto. Tiene que devolver un diccionario.\n",
    "2. Crear una función reemplazar_palabras para remplazar una palabra_original del texto por una palabra_nueva . Tiene que devolver el texto con el remplazo de palabras.\n",
    "3. Crear una función eliminar_palabra para eliminar una palabra del texto. Tiene que devolver el texto con la palabra eliminada.\n",
    "4. Crear la función procesar_texto que tome un texto, una opción(entre \"contar\", \"reemplazar\", \"eliminar\") y un número de argumentos variable según la opción indicada.\n",
    "Caso de uso:\n",
    "Comprueba el funcionamiento completo de la función procesar_texto"
   ]
  },
  {
   "cell_type": "code",
   "execution_count": 111,
   "metadata": {},
   "outputs": [],
   "source": [
    "def contar(texto):\n",
    "    diccionario={}\n",
    "    palabras=texto.split(\" \")\n",
    "    for palabra in palabras:\n",
    "        diccionario.update({palabra:palabras.count(palabra)})\n",
    "    return diccionario\n",
    "\n",
    "def reemplazar(texto, palabra_original, palabra_nueva):\n",
    "  palabras=texto.split(\" \")\n",
    "  texto_reemplazado=\"\"\n",
    "  for palabra in palabras:\n",
    "    if palabra==palabra_original:\n",
    "        texto_reemplazado+=palabra_nueva\n",
    "    else:\n",
    "        texto_reemplazado+=palabra\n",
    "    texto_reemplazado+=\" \"\n",
    "  return texto_reemplazado\n",
    "\n",
    "def eliminar(texto, palabra_eliminar):\n",
    "   palabras=texto.split(\" \")\n",
    "   texto_eliminado=\"\"\n",
    "   for palabra in palabras:\n",
    "    if palabra==palabra_eliminar:\n",
    "        continue\n",
    "    else:\n",
    "        texto_eliminado+=palabra\n",
    "    texto_eliminado+=\" \"\n",
    "   return texto_eliminado\n",
    "\n",
    "def procesar_texto(*args):\n",
    "  if args[0]==contar:\n",
    "     return contar(args[1])\n",
    "  elif args[0]==reemplazar:\n",
    "     return reemplazar(args[1], args[2], args[3])\n",
    "  elif args[0]==eliminar:\n",
    "     return eliminar(args[1], args[2])"
   ]
  },
  {
   "cell_type": "code",
   "execution_count": null,
   "metadata": {},
   "outputs": [],
   "source": [
    "print(procesar_texto(contar, \"hola la la\"))\n",
    "\n",
    "print(procesar_texto(reemplazar, \"le la la\", \"le\", \"bla\"))\n",
    "\n",
    "print(procesar_texto(eliminar, \"bla la la\", \"bla\"))\n",
    "\n",
    "\n"
   ]
  },
  {
   "cell_type": "markdown",
   "metadata": {},
   "source": [
    "38. Genera un programa que nos diga si es de noche, de día o tarde según la hora proporcionada por el usuario."
   ]
  },
  {
   "cell_type": "code",
   "execution_count": null,
   "metadata": {},
   "outputs": [],
   "source": [
    "franjas={\"7\":\"Noche\", \"12\": \"Mañana\", \"20\": \"Tarde\", \"24\":\"Noche\"}\n",
    "try:\n",
    "   hora_usuario=int(input(\"Introduce la hora en formato HH (de 0 a 24 horas)\"))\n",
    "   for umbral in list(franjas.keys()):\n",
    "      if int(umbral)>hora_usuario:\n",
    "         franja=franjas.get(umbral)\n",
    "         print(f\"La franja horaria de las {hora_usuario} es: {franja}\")\n",
    "         break\n",
    "except TypeError:\n",
    "   print(\"Hora en formato inválido\")"
   ]
  },
  {
   "cell_type": "markdown",
   "metadata": {},
   "source": [
    "39. Escribe un programa que determine qué calificación en texto tiene un alumno en base a su calificación numérica. Las reglas de calificación son:\n",
    "- 0 - 69 insuficiente\n",
    "- 70 - 79 bien\n",
    "- 80 - 89 muy bien\n",
    "- 90 - 100 excelente"
   ]
  },
  {
   "cell_type": "code",
   "execution_count": null,
   "metadata": {},
   "outputs": [],
   "source": [
    "notas={\"70\":\"insuficiente\", \"80\":\"bien\", \"90\":\"muy bien\", \"100\": \"excelente\" }\n",
    "calificación_numérica=89\n",
    "for umbral in list(notas.keys()):\n",
    "    if int(umbral)>calificación_numérica:\n",
    "        calificación=notas.get(umbral)\n",
    "        print(f\"La calficación numérica es: {calificación_numérica} y la nota es: {calificación}\")\n",
    "        break\n",
    " "
   ]
  },
  {
   "cell_type": "markdown",
   "metadata": {},
   "source": [
    "40. Escribe una función que tome dos parámetros: figura (una cadena que puede ser \"rectangulo\" , \"circulo\" o \"triangulo\" ) y datos (una tupla con los datos necesarios para calcular el área de la figura)."
   ]
  },
  {
   "cell_type": "code",
   "execution_count": null,
   "metadata": {},
   "outputs": [],
   "source": [
    "def área(figura, datos):\n",
    "    if figura==\"rectángulo\":\n",
    "        return datos[0]*datos[1]\n",
    "    elif figura==\"círculo\":\n",
    "        return round(3.1416*(datos**2),2)\n",
    "    elif figura==\"triángulo\":\n",
    "        return datos[0]*datos[1]*0.5\n",
    "\n",
    "print(f\"El área de un rectángulo de lados 3 y 5 es {área(\"rectángulo\", (3, 5))}\")\n",
    "print(f\"El área de un círculo de radio es  3  {área(\"círculo\", 3)}\")\n",
    "print(f\"El área de un triángulo de base 3 y altura 5 es {área(\"triángulo\", (3, 5))}\")\n"
   ]
  },
  {
   "cell_type": "markdown",
   "metadata": {},
   "source": [
    "41. En este ejercicio, se te pedirá que escribas un programa en Python que utilice condicionales para determinar el monto final de una compra en una tienda en línea, después de aplicar un descuento. El programa debe hacer lo siguiente:\n",
    "1. Solicita al usuario que ingrese el precio original de un artículo.\n",
    "2. Pregunta al usuario si tiene un cupón de descuento (respuesta sí o no).\n",
    "3. Si el usuario responde que sí, solicita que ingrese el valor del cupón de descuento.\n",
    "4. Aplica el descuento al precio original del artículo, siempre y cuando el valor del cupón sea válido (es decir, mayor a cero). Por ejemplo, descuento de 15€.\n",
    "5. Muestra el precio final de la compra, teniendo en cuenta el descuento aplicado o sin él.\n",
    "6. Recuerda utilizar estructuras de control de flujo como if, elif y else para llevar a cabo estas acciones en tu programa de Python."
   ]
  },
  {
   "cell_type": "code",
   "execution_count": null,
   "metadata": {},
   "outputs": [],
   "source": [
    "def inputs():\n",
    "    def nuevos_datos():\n",
    "        print(\"Introduce valores válidos\")\n",
    "        return inputs()\n",
    "    try: \n",
    "        precio_original=float(input(\"Introduce el precio original\"))\n",
    "        descuento=input(\"Tienes descuento? Sí/No\")\n",
    "        cupón=0\n",
    "        precio_final=precio_original\n",
    "        if descuento==\"Sí\":\n",
    "            descuento=True\n",
    "            try:\n",
    "                cupón=float(input(\"Introduce el descuento\"))\n",
    "            except ValueError:\n",
    "                return nuevos_datos()\n",
    "            if cupón<precio_original:\n",
    "                precio_final=precio_original-cupón\n",
    "            else:\n",
    "                print(f\"cupón incorrecto, es mayor que el precio original\")\n",
    "                return inputs()\n",
    "        elif descuento==\"No\":\n",
    "            descuento=False\n",
    "        else:\n",
    "            return nuevos_datos()\n",
    "        return precio_original, descuento, cupón, precio_final\n",
    "    except TypeError:\n",
    "        return nuevos_datos()\n",
    "    except ValueError:\n",
    "        return nuevos_datos()\n",
    "\n",
    "compra=inputs()\n",
    "print(f\"El producto tiene un precio original {compra[0]}\")\n",
    "if compra[1]:\n",
    "    print(f\"El producto tiene descuento\")\n",
    "    print(f\"El cupón de descuento es {compra[2]}\")\n",
    "    print(f\"El precio final es de {compra[3]}\")\n",
    "else:\n",
    "    print(f\"El producto no tiene descuento\")\n"
   ]
  },
  {
   "cell_type": "code",
   "execution_count": null,
   "metadata": {},
   "outputs": [],
   "source": []
  }
 ],
 "metadata": {
  "kernelspec": {
   "display_name": "Python 3",
   "language": "python",
   "name": "python3"
  },
  "language_info": {
   "codemirror_mode": {
    "name": "ipython",
    "version": 3
   },
   "file_extension": ".py",
   "mimetype": "text/x-python",
   "name": "python",
   "nbconvert_exporter": "python",
   "pygments_lexer": "ipython3",
   "version": "3.13.0"
  }
 },
 "nbformat": 4,
 "nbformat_minor": 2
}
